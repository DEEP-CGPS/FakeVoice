{
 "cells": [
  {
   "cell_type": "code",
   "execution_count": 1,
   "id": "9abb25a3-3c23-4527-8d92-b48deefb2040",
   "metadata": {},
   "outputs": [
    {
     "name": "stdout",
     "output_type": "stream",
     "text": [
      "Project root: D:\\UMNG-2025\\FakeVoice\\FakeVoice\n"
     ]
    }
   ],
   "source": [
    "import sys\n",
    "from pathlib import Path\n",
    "\n",
    "# Add project root (parent of notebooks/) to sys.path\n",
    "project_root = Path.cwd().parent\n",
    "sys.path.insert(0, str(project_root))\n",
    "print(\"Project root:\", project_root)"
   ]
  },
  {
   "cell_type": "code",
   "execution_count": 3,
   "id": "39dcaae9-6a09-4821-b508-51ae3477027a",
   "metadata": {},
   "outputs": [],
   "source": [
    "from fakevoicefinder import ExperimentConfig, CreateExperiment, ModelLoader, ConfigError\n"
   ]
  },
  {
   "cell_type": "code",
   "execution_count": 5,
   "id": "e17b1e0e-ef3a-4670-963e-19d2ec2feded",
   "metadata": {},
   "outputs": [
    {
     "name": "stdout",
     "output_type": "stream",
     "text": [
      "ExperimentConfig:\n",
      "  batch_size     : 32\n",
      "  cache_features : True\n",
      "  data_path      : ../dataset\n",
      "  device         : cpu\n",
      "  epochs         : 20\n",
      "  eval_metric    : ['accuracy', 'F1']\n",
      "  fakes_zip      : fakes.zip\n",
      "  flag_train     : True\n",
      "  input_channels : 1\n",
      "  learning_rate  : 0.003\n",
      "  models_list    : ['AlexNet', 'ResNet18']\n",
      "  models_path    : ../models\n",
      "  num_workers    : 4\n",
      "  optimizer      : Adam\n",
      "  outputs_path   : outputs\n",
      "  patience       : 10\n",
      "  reals_zip      : reals.zip\n",
      "  run_name       : exp_zip_only_v3\n",
      "  save_best_only : True\n",
      "  save_models    : True\n",
      "  seed           : 23\n",
      "  transform_list : ['mel', 'log']\n",
      "  type_train     : both\n"
     ]
    }
   ],
   "source": [
    "# --- Configure your experiment ---\n",
    "cfg = ExperimentConfig()\n",
    "\n",
    "# REQUIRED: name of the experiment folder under outputs/\n",
    "cfg.run_name       = \"exp_zip_only_v3\"   # <<< IMPORTANT: this avoids the exp_name error\n",
    "\n",
    "# Data: folder must contain the two zips: reals.zip and fakes.zip\n",
    "cfg.data_path      = \"../dataset\"\n",
    "cfg.reals_zip      = \"reals.zip\"      # change to your actual file names if different\n",
    "cfg.fakes_zip      = \"fakes.zip\"\n",
    "\n",
    "# Optional user models path\n",
    "cfg.models_path    = \"../models\"\n",
    "\n",
    "# Benchmark models (can be an empty list)\n",
    "cfg.models_list    = [\"AlexNet\", \"ResNet18\"]\n",
    "\n",
    "# Train type: 'scratch' | 'pretrain' | 'both'\n",
    "cfg.type_train     = \"both\"\n",
    "\n",
    "# Transforms to generate during data preparation\n",
    "cfg.transform_list = [\"mel\", \"log\"]\n",
    "\n",
    "# Training defaults (kept in manifest for traceability)\n",
    "cfg.epochs         = 20\n",
    "cfg.batch_size     = 32\n",
    "cfg.optimizer      = \"Adam\"\n",
    "cfg.learning_rate  = 0.003\n",
    "cfg.patience       = 10\n",
    "cfg.device         = \"cpu\"   # or \"gpu\"\n",
    "cfg.seed           = 23\n",
    "cfg.num_workers    = 4\n",
    "\n",
    "# Used by ModelLoader: number of input channels (1 for mel/log, 3 for RGB)\n",
    "cfg.input_channels = 1\n",
    "\n",
    "print(cfg.summary())"
   ]
  },
  {
   "cell_type": "code",
   "execution_count": 7,
   "id": "2c26ab2a-24ac-476f-afac-b5d0502f7b54",
   "metadata": {},
   "outputs": [
    {
     "name": "stdout",
     "output_type": "stream",
     "text": [
      "Config validation ✅\n"
     ]
    }
   ],
   "source": [
    "try:\n",
    "    cfg.validate()\n",
    "    print(\"Config validation ✅\")\n",
    "except ConfigError as e:\n",
    "    print(\"Config validation error:\", e)\n",
    "    raise"
   ]
  },
  {
   "cell_type": "code",
   "execution_count": 9,
   "id": "227e3235-091f-4d67-8eaa-8fd66cb20b3a",
   "metadata": {},
   "outputs": [
    {
     "name": "stdout",
     "output_type": "stream",
     "text": [
      "Experiment root: D:\\UMNG-2025\\FakeVoice\\FakeVoice\\outputs\\exp_zip_only_v3\n",
      "Manifest path : D:\\UMNG-2025\\FakeVoice\\FakeVoice\\outputs\\exp_zip_only_v3\\experiment.json\n"
     ]
    }
   ],
   "source": [
    "exp = CreateExperiment(cfg)  # uses cfg.run_name internally\n",
    "exp_dict = exp.build(make_dirs=True)\n",
    "print(\"Experiment root:\", exp.root)\n",
    "print(\"Manifest path :\", exp.root / \"experiment.json\")\n"
   ]
  },
  {
   "cell_type": "code",
   "execution_count": 11,
   "id": "1625876d-fc8c-4d9f-9153-13743e3ecf26",
   "metadata": {},
   "outputs": [
    {
     "data": {
      "application/vnd.jupyter.widget-view+json": {
       "model_id": "",
       "version_major": 2,
       "version_minor": 0
      },
      "text/plain": [
       "mel • train:   0%|          | 0/656 [00:00<?, ?file/s]"
      ]
     },
     "metadata": {},
     "output_type": "display_data"
    },
    {
     "name": "stderr",
     "output_type": "stream",
     "text": [
      "C:\\Users\\Gpach\\anaconda3\\Lib\\site-packages\\paramiko\\transport.py:219: CryptographyDeprecationWarning: Blowfish has been deprecated and will be removed in a future release\n",
      "  \"class\": algorithms.Blowfish,\n"
     ]
    },
    {
     "data": {
      "application/vnd.jupyter.widget-view+json": {
       "model_id": "",
       "version_major": 2,
       "version_minor": 0
      },
      "text/plain": [
       "mel • test:   0%|          | 0/183 [00:00<?, ?file/s]"
      ]
     },
     "metadata": {},
     "output_type": "display_data"
    },
    {
     "data": {
      "application/vnd.jupyter.widget-view+json": {
       "model_id": "",
       "version_major": 2,
       "version_minor": 0
      },
      "text/plain": [
       "log • train:   0%|          | 0/656 [00:00<?, ?file/s]"
      ]
     },
     "metadata": {},
     "output_type": "display_data"
    },
    {
     "data": {
      "application/vnd.jupyter.widget-view+json": {
       "model_id": "",
       "version_major": 2,
       "version_minor": 0
      },
      "text/plain": [
       "log • test:   0%|          | 0/183 [00:00<?, ?file/s]"
      ]
     },
     "metadata": {},
     "output_type": "display_data"
    },
    {
     "data": {
      "text/plain": [
       "{'load': {'reals': 824, 'fakes': 107},\n",
       " 'split': {'train': {'total': 744, 'reals': 658, 'fakes': 86},\n",
       "  'test': {'total': 187, 'reals': 166, 'fakes': 21}},\n",
       " 'save_original': {'train': 744, 'test': 187},\n",
       " 'transforms': {'mel': {'train': 656, 'test': 183},\n",
       "  'log': {'train': 656, 'test': 183}}}"
      ]
     },
     "execution_count": 11,
     "metadata": {},
     "output_type": "execute_result"
    }
   ],
   "source": [
    "# One-liner: load -> split -> save originals -> transforms -> update manifest\n",
    "TRAIN_RATIO = 0.8\n",
    "summary = exp.prepare_data(train_ratio=TRAIN_RATIO, seed=cfg.seed)\n",
    "summary\n"
   ]
  },
  {
   "cell_type": "code",
   "execution_count": 13,
   "id": "da3f33ae-d43c-441a-8612-f7910df04cb7",
   "metadata": {},
   "outputs": [
    {
     "name": "stdout",
     "output_type": "stream",
     "text": [
      "{'experiment_root': 'outputs/exp_zip_only_v3',\n",
      " 'test_num_items': 183,\n",
      " 'test_original_path': 'outputs/exp_zip_only_v3/datasets/test/original',\n",
      " 'train_num_items': 656,\n",
      " 'train_original_path': 'outputs/exp_zip_only_v3/datasets/train/original',\n",
      " 'transforms_test': {'log': 'outputs/exp_zip_only_v3/datasets/test/transforms/log',\n",
      "                     'mel': 'outputs/exp_zip_only_v3/datasets/test/transforms/mel'},\n",
      " 'transforms_train': {'log': 'outputs/exp_zip_only_v3/datasets/train/transforms/log',\n",
      "                      'mel': 'outputs/exp_zip_only_v3/datasets/train/transforms/mel'}}\n"
     ]
    }
   ],
   "source": [
    "import json\n",
    "from pprint import pprint\n",
    "\n",
    "with open(exp.root / \"experiment.json\", \"r\", encoding=\"utf-8\") as f:\n",
    "    manifest = json.load(f)\n",
    "\n",
    "pprint({\n",
    "    \"experiment_root\": manifest[\"_experiment_root\"],\n",
    "    \"train_original_path\": manifest[\"experiment\"][\"train_data\"][\"original_dataset\"][\"path\"],\n",
    "    \"train_num_items\": manifest[\"experiment\"][\"train_data\"][\"original_dataset\"][\"num_items\"],\n",
    "    \"test_original_path\": manifest[\"experiment\"][\"test_data\"][\"original_dataset\"][\"path\"],\n",
    "    \"test_num_items\": manifest[\"experiment\"][\"test_data\"][\"original_dataset\"][\"num_items\"],\n",
    "    \"transforms_train\": {k: v[\"path\"] for k, v in manifest[\"experiment\"][\"train_data\"][\"transforms_dataset\"].items()},\n",
    "    \"transforms_test\":  {k: v[\"path\"] for k, v in manifest[\"experiment\"][\"test_data\"][\"transforms_dataset\"].items()},\n",
    "})\n"
   ]
  },
  {
   "cell_type": "code",
   "execution_count": 15,
   "id": "7c7e3ef1-c129-4930-8de5-0d77475dc6e7",
   "metadata": {},
   "outputs": [
    {
     "name": "stdout",
     "output_type": "stream",
     "text": [
      "Benchmark models saved:\n",
      "{'AlexNet': {'pretrain': 'outputs/exp_zip_only_v3/models/loaded/AlexNet_pretrain.pt',\n",
      "             'scratch': 'outputs/exp_zip_only_v3/models/loaded/AlexNet_scratch.pt'},\n",
      " 'ResNet18': {'pretrain': 'outputs/exp_zip_only_v3/models/loaded/ResNet18_pretrain.pt',\n",
      "              'scratch': 'outputs/exp_zip_only_v3/models/loaded/ResNet18_scratch.pt'}}\n",
      "User models saved:\n",
      "{'SimpleCNN_scripted.pt': 'outputs/exp_zip_only_v3/models/loaded/SimpleCNN_scripted_usermodel_jit.pt'}\n"
     ]
    }
   ],
   "source": [
    "from pprint import pprint\n",
    "loader = ModelLoader(exp)\n",
    "\n",
    "# Benchmarks according to cfg.models_list and cfg.type_train\n",
    "bench = loader.prepare_benchmarks(add_softmax=True, input_channels=cfg.input_channels)\n",
    "print(\"Benchmark models saved:\")\n",
    "pprint(bench)\n",
    "\n",
    "# User models (if any .pt/.pth under cfg.models_path)\n",
    "user = loader.prepare_user_models(add_softmax=True, input_channels=cfg.input_channels)\n",
    "print(\"User models saved:\")\n",
    "pprint(user)\n"
   ]
  },
  {
   "cell_type": "code",
   "execution_count": 17,
   "id": "ee5898ad-22e2-49f9-961e-e85b02a863a4",
   "metadata": {},
   "outputs": [
    {
     "name": "stdout",
     "output_type": "stream",
     "text": [
      "📁 datasets\n",
      "   📁 test\n",
      "      📁 original\n",
      "         📁 fakes\n",
      "         📁 reals\n",
      "      📁 transforms\n",
      "         📁 log\n",
      "         📁 mel\n",
      "   📁 train\n",
      "      📁 original\n",
      "         📁 fakes\n",
      "         📁 reals\n",
      "      📁 transforms\n",
      "         📁 log\n",
      "         📁 mel\n",
      "📁 models\n",
      "   📁 loaded\n",
      "      📄 AlexNet_pretrain.pt\n",
      "      📄 AlexNet_scratch.pt\n",
      "      📄 ResNet18_pretrain.pt\n",
      "      📄 ResNet18_scratch.pt\n",
      "      📄 SimpleCNN_scripted_usermodel_jit.pt\n",
      "   📁 trained\n",
      "📄 experiment.json\n"
     ]
    }
   ],
   "source": [
    "def print_tree(root: Path, max_depth: int = 3, prefix: str = \"\"):\n",
    "    if max_depth < 0:\n",
    "        return\n",
    "    try:\n",
    "        entries = sorted(root.iterdir(), key=lambda p: (p.is_file(), p.name.lower()))\n",
    "    except FileNotFoundError:\n",
    "        return\n",
    "    for e in entries:\n",
    "        print(prefix + (\"📄 \" if e.is_file() else \"📁 \") + e.name)\n",
    "        if e.is_dir():\n",
    "            print_tree(e, max_depth - 1, prefix + \"   \")\n",
    "\n",
    "print_tree(exp.root, max_depth=3)"
   ]
  },
  {
   "cell_type": "code",
   "execution_count": 19,
   "id": "c294cda3-1925-4000-9ede-431904b22dbe",
   "metadata": {},
   "outputs": [
    {
     "name": "stdout",
     "output_type": "stream",
     "text": [
      "Model keys: ['AlexNet', 'ResNet18', 'usermodel_SimpleCNN_scripted.pt']\n",
      "— AlexNet\n",
      "   loaded_variants : {'scratch': 'outputs/exp_zip_only_v3/models/loaded/AlexNet_scratch.pt', 'pretrain': 'outputs/exp_zip_only_v3/models/loaded/AlexNet_pretrain.pt'}\n",
      "   trained_path    : None\n",
      "— ResNet18\n",
      "   loaded_variants : {'scratch': 'outputs/exp_zip_only_v3/models/loaded/ResNet18_scratch.pt', 'pretrain': 'outputs/exp_zip_only_v3/models/loaded/ResNet18_pretrain.pt'}\n",
      "   trained_path    : None\n",
      "— usermodel_SimpleCNN_scripted.pt\n",
      "   loaded_variants : {'usermodel_jit': 'outputs/exp_zip_only_v3/models/loaded/SimpleCNN_scripted_usermodel_jit.pt'}\n",
      "   trained_path    : None\n"
     ]
    }
   ],
   "source": [
    "with open(exp.root / \"experiment.json\", \"r\", encoding=\"utf-8\") as f:\n",
    "    manifest = json.load(f)\n",
    "\n",
    "models_section = manifest[\"experiment\"].get(\"models\", {})\n",
    "print(\"Model keys:\", list(models_section.keys()))\n",
    "for name, entry in models_section.items():\n",
    "    print(\"—\", name)\n",
    "    print(\"   loaded_variants :\", entry.get(\"loaded_variants\"))\n",
    "    print(\"   trained_path    :\", entry.get(\"trained_path\"))"
   ]
  },
  {
   "cell_type": "code",
   "execution_count": null,
   "id": "e2fc7f8f-eb5d-4efe-b589-7123ee785cb4",
   "metadata": {},
   "outputs": [],
   "source": []
  }
 ],
 "metadata": {
  "kernelspec": {
   "display_name": "Python [conda env:base] *",
   "language": "python",
   "name": "conda-base-py"
  },
  "language_info": {
   "codemirror_mode": {
    "name": "ipython",
    "version": 3
   },
   "file_extension": ".py",
   "mimetype": "text/x-python",
   "name": "python",
   "nbconvert_exporter": "python",
   "pygments_lexer": "ipython3",
   "version": "3.11.7"
  }
 },
 "nbformat": 4,
 "nbformat_minor": 5
}
