



# If you need to install PyTorch, follow your platform instructions at https://pytorch.org/
import torch
import torch.nn as nn
from pathlib import Path







class SimpleCNN(nn.Module):
    """A small, size-agnostic CNN for 2-class classification.

    Design goals
    ------------
    - Accepts inputs shaped [B, C, H, W] where C is typically 1 (mel/log spectrograms).
    - Uses AdaptiveAvgPool2d((1,1)) so the spatial dimensions do not constrain the model.
    - Final output has **2 logits** (real=0, fake=1). Apply Softmax externally if you need probabilities.

    TorchScript-compatibility:
    - The module is simple (pure nn layers) and can be exported with torch.jit.script.
    """
    def __init__(self, in_channels: int = 1, hidden_channels: int = 32):
        super().__init__()
        self.features = nn.Sequential(
            nn.Conv2d(in_channels, hidden_channels, kernel_size=3, padding=1),
            nn.BatchNorm2d(hidden_channels),
            nn.ReLU(inplace=True),
            nn.MaxPool2d(kernel_size=2, stride=2),   # downsample by 2

            nn.Conv2d(hidden_channels, hidden_channels * 2, kernel_size=3, padding=1),
            nn.BatchNorm2d(hidden_channels * 2),
            nn.ReLU(inplace=True),
            nn.MaxPool2d(kernel_size=2, stride=2),   # downsample by 2

            nn.Conv2d(hidden_channels * 2, hidden_channels * 4, kernel_size=3, padding=1),
            nn.BatchNorm2d(hidden_channels * 4),
            nn.ReLU(inplace=True),
            # No more maxpool to keep it lightweight; we rely on AdaptiveAvgPool below
        )
        self.gap = nn.AdaptiveAvgPool2d((1, 1))     # size-agnostic pooling
        self.classifier = nn.Linear(hidden_channels * 4, 2)  # 2 classes

    def forward(self, x: torch.Tensor) -> torch.Tensor:
        x = self.features(x)        # [B, C*, H', W']
        x = self.gap(x)             # [B, C*, 1, 1]
        x = torch.flatten(x, 1)     # [B, C*]
        logits = self.classifier(x) # [B, 2]
        return logits







# Instantiate
model = SimpleCNN(in_channels=1, hidden_channels=32)
model.eval()

# Two inputs with different spatial sizes (H=128, W varies)
x1 = torch.randn(1, 1, 128, 300)
x2 = torch.randn(1, 1, 128, 552)

with torch.no_grad():
    y1 = model(x1)
    y2 = model(x2)

print("Output shapes:", y1.shape, y2.shape)  # both should be [1, 2]
assert y1.shape == (1, 2) and y2.shape == (1, 2), "Model output should be [B, 2] regardless of input size."
print("✅ Size-agnostic forward pass OK")







save_dir = Path("../models")
save_dir.mkdir(parents=True, exist_ok=True)
save_path = save_dir / "SimpleCNN_scripted.pt"

# Script and save
scripted = torch.jit.script(model)
scripted.save(str(save_path))

print(f"✅ TorchScript saved to: {save_path.resolve()}")







reloaded = torch.jit.load(str(save_path), map_location="cpu")
reloaded.eval()
with torch.no_grad():
    y = reloaded(torch.randn(2, 1, 128, 400))
print("Reloaded output shape:", y.shape)  # [2, 2]
print("✅ Reload test OK")




